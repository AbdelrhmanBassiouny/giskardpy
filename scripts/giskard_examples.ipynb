{
 "cells": [
  {
   "cell_type": "code",
   "execution_count": 7,
   "outputs": [],
   "source": [
    "from giskardpy.python_interface.python_interface import GiskardWrapper\n",
    "import rospy\n",
    "from geometry_msgs.msg import PoseStamped, Point, Quaternion, Vector3Stamped, PointStamped, Vector3\n",
    "from tf.transformations import quaternion_from_matrix, quaternion_about_axis\n",
    "from giskardpy.goals.weight_scaling_goals import MaxManipulabilityLinWeight, BaseArmWeightScaling\n",
    "from copy import deepcopy\n",
    "from giskard_msgs.msg import WorldBody, CollisionEntry, WorldGoal, GiskardError"
   ],
   "metadata": {
    "collapsed": false,
    "pycharm": {
     "name": "#%%\n"
    }
   }
  },
  {
   "cell_type": "code",
   "execution_count": 2,
   "outputs": [],
   "source": [
    "rospy.init_node('giskard_examples')"
   ],
   "metadata": {
    "collapsed": false,
    "pycharm": {
     "name": "#%%\n"
    }
   }
  },
  {
   "cell_type": "code",
   "execution_count": 22,
   "outputs": [],
   "source": [
    "# Launch the giskardpy PR2 standalone launch file before this\n",
    "gs = GiskardWrapper()"
   ],
   "metadata": {
    "collapsed": false,
    "pycharm": {
     "name": "#%%\n"
    }
   }
  },
  {
   "cell_type": "code",
   "execution_count": 4,
   "outputs": [],
   "source": [
    "def reset_giskard():\n",
    "    gs.clear_motion_goals_and_monitors()\n",
    "    gs.world.clear()\n",
    "    default_pose = {\n",
    "        'r_elbow_flex_joint': -0.15,\n",
    "        'r_forearm_roll_joint': 0,\n",
    "        'r_shoulder_lift_joint': 0,\n",
    "        'r_shoulder_pan_joint': 0,\n",
    "        'r_upper_arm_roll_joint': 0,\n",
    "        'r_wrist_flex_joint': -0.10001,\n",
    "        'r_wrist_roll_joint': 0,\n",
    "        'l_elbow_flex_joint': -0.15,\n",
    "        'l_forearm_roll_joint': 0,\n",
    "        'l_shoulder_lift_joint': 0,\n",
    "        'l_shoulder_pan_joint': 0,\n",
    "        'l_upper_arm_roll_joint': 0,\n",
    "        'l_wrist_flex_joint': -0.10001,\n",
    "        'l_wrist_roll_joint': 0,\n",
    "        'torso_lift_joint': 0.2,\n",
    "        'head_pan_joint': 0,\n",
    "        'head_tilt_joint': 0,\n",
    "        'l_gripper_l_finger_joint': 0.55,\n",
    "        'r_gripper_l_finger_joint': 0.55\n",
    "    }\n",
    "    done = gs.monitors.add_set_seed_configuration(default_pose)\n",
    "    base_pose = PoseStamped()\n",
    "    base_pose.header.frame_id = 'map'\n",
    "    base_pose.pose.position = Point(0, 0, 0)\n",
    "    base_pose.pose.orientation.w = 1\n",
    "    done2 = gs.monitors.add_set_seed_odometry(base_pose=base_pose)\n",
    "    gs.motion_goals.allow_all_collisions()\n",
    "    gs.monitors.add_end_motion(start_condition=f'{done} and {done2}')\n",
    "    gs.execute()\n",
    "    gs.clear_motion_goals_and_monitors()\n"
   ],
   "metadata": {
    "collapsed": false,
    "pycharm": {
     "name": "#%%\n"
    }
   }
  },
  {
   "cell_type": "markdown",
   "source": [
    "Giskard is a constraint- and optimization-based whole-body motion planning/control framework.\n",
    "In short explain the QP...\n",
    "Explain a constraint and how it influences the QP...\n",
    "When using the python wrapper you do not specify constraints directly but rather a Motion Goal to parameterize a predefined set of constraints.\n",
    "Additionally, the python interface allows to specify monitors that monitor a mathematical expression against a threshold and evaluate into a binary value.\n",
    "They are used to start, stop or interrupt motion goals. More complex motion goals might specify their own monitors to chain constraints together.\n",
    "Show picture of PR2 TF Tree..."
   ],
   "metadata": {
    "collapsed": false,
    "pycharm": {
     "name": "#%% md\n"
    }
   }
  },
  {
   "cell_type": "markdown",
   "source": [
    "The simplest possible motion goal call follows the following schema:\n",
    "\n",
    "    - Define a motion goal.\n",
    "    - Define a monitor that checks if the goal was reached.\n",
    "    - Define an end motion monitor, which has as start_condition the goal reached monitor.\n"
   ],
   "metadata": {
    "collapsed": false,
    "pycharm": {
     "name": "#%% md\n"
    }
   }
  },
  {
   "cell_type": "code",
   "execution_count": 5,
   "outputs": [],
   "source": [
    "reset_giskard()\n",
    "\n",
    "joint_goal = {'torso_lift_joint': 0.3}\n",
    "joint_monitor = gs.monitors.add_joint_position(goal_state=joint_goal)\n",
    "gs.motion_goals.add_joint_position(goal_state=joint_goal)\n",
    "gs.monitors.add_end_motion(start_condition=joint_monitor)\n",
    "assert gs.execute().error.code == GiskardError.SUCCESS"
   ],
   "metadata": {
    "collapsed": false,
    "pycharm": {
     "name": "#%%\n"
    }
   }
  },
  {
   "cell_type": "markdown",
   "source": [
    "A commonly used goal is a cartesian pose goal. It is used to move a link of the robot to a specific pose. Frequently used links are the endeffector links or the base link."
   ],
   "metadata": {
    "collapsed": false,
    "pycharm": {
     "name": "#%% md\n"
    }
   }
  },
  {
   "cell_type": "code",
   "execution_count": 7,
   "outputs": [
    {
     "ename": "AssertionError",
     "evalue": "",
     "output_type": "error",
     "traceback": [
      "\u001B[0;31m---------------------------------------------------------------------------\u001B[0m",
      "\u001B[0;31mAssertionError\u001B[0m                            Traceback (most recent call last)",
      "Cell \u001B[0;32mIn[7], line 21\u001B[0m\n\u001B[1;32m     18\u001B[0m gs\u001B[38;5;241m.\u001B[39mmonitors\u001B[38;5;241m.\u001B[39madd_end_motion(pose_monitor)\n\u001B[1;32m     19\u001B[0m \u001B[38;5;66;03m# in the case that there is no specific end motion condition the default end motion condition stops the motion when the robot stops moving i.e. the QP is in a local minimum.\u001B[39;00m\n\u001B[1;32m     20\u001B[0m \u001B[38;5;66;03m# gs.add_default_end_motion_conditions()\u001B[39;00m\n\u001B[0;32m---> 21\u001B[0m \u001B[38;5;28;01massert\u001B[39;00m gs\u001B[38;5;241m.\u001B[39mexecute()\u001B[38;5;241m.\u001B[39merror\u001B[38;5;241m.\u001B[39mcode \u001B[38;5;241m==\u001B[39m \u001B[38;5;241m1\u001B[39m\n",
      "\u001B[0;31mAssertionError\u001B[0m: "
     ]
    }
   ],
   "source": [
    "reset_giskard()\n",
    "\n",
    "# Define a goal pose in the map coordinate system\n",
    "goal_pose = PoseStamped()\n",
    "goal_pose.header.frame_id = 'map'\n",
    "goal_pose.pose.orientation = Quaternion(*quaternion_from_matrix([[1, 0, 0, 0],\n",
    "                                                                 [0, 1, 0, 0],\n",
    "                                                                 [0, 0, 1, 0],\n",
    "                                                                 [0, 0, 0, 1]]))\n",
    "goal_pose.pose.position.x = 2.01\n",
    "goal_pose.pose.position.y = -0.2\n",
    "goal_pose.pose.position.z = 0.7\n",
    "# specify the cartesian pose goal to move 'l_gripper_tool_frame' towards goal_pose by using the kinematic chain between 'l_gripper_tool_frame' and 'map'\n",
    "gs.motion_goals.add_cartesian_pose(goal_pose, 'l_gripper_tool_frame', 'map')\n",
    "# specify monitor that is active when it is below the given thresholds and use it to end the motion\n",
    "pose_monitor = gs.monitors.add_cartesian_pose('map', 'l_gripper_tool_frame', goal_pose, position_threshold=0.01,\n",
    "                                              orientation_threshold=0.01)\n",
    "gs.monitors.add_end_motion(pose_monitor)\n",
    "# in the case that there is no specific end motion condition the default end motion condition stops the motion when the robot stops moving i.e. the QP is in a local minimum.\n",
    "# gs.add_default_end_motion_conditions()\n",
    "assert gs.execute().error.code == GiskardError.SUCCESS"
   ],
   "metadata": {
    "collapsed": false,
    "pycharm": {
     "name": "#%%\n"
    }
   }
  },
  {
   "cell_type": "markdown",
   "source": [
    "When adding an object to the world of giskard one can specify goal poses also in its coordinate frame. This is true for all links that are part of giskards world representation."
   ],
   "metadata": {
    "collapsed": false,
    "pycharm": {
     "name": "#%% md\n"
    }
   }
  },
  {
   "cell_type": "code",
   "execution_count": 8,
   "outputs": [],
   "source": [
    "reset_giskard()\n",
    "\n",
    "# adding a box to the world\n",
    "box_pose = PoseStamped()\n",
    "box_pose.header.frame_id = 'map'\n",
    "box_pose.pose.orientation.w = 1\n",
    "box_pose.pose.position.x = 2\n",
    "box_pose.pose.position.y = -0.2\n",
    "box_pose.pose.position.z = 0.7\n",
    "gs.world.add_box('mybox', size=(0.1, 0.05, 0.2), pose=box_pose, parent_link='map')\n",
    "\n",
    "# specfy a goal pose 8cm in front of the box origin frame\n",
    "goal_pose = PoseStamped()\n",
    "goal_pose.header.frame_id = 'mybox'\n",
    "goal_pose.pose.orientation.w = 1\n",
    "goal_pose.pose.position.x = -0.08\n",
    "goal_pose.pose.position.y = 0\n",
    "goal_pose.pose.position.z = 0\n",
    "gs.motion_goals.add_cartesian_pose(goal_pose, 'l_gripper_tool_frame', 'map')\n",
    "pose_monitor = gs.monitors.add_cartesian_pose('map', 'l_gripper_tool_frame', goal_pose, position_threshold=0.01,\n",
    "                                              orientation_threshold=0.01)\n",
    "gs.monitors.add_end_motion(pose_monitor)\n",
    "assert gs.execute().error.code == GiskardError.SUCCESS"
   ],
   "metadata": {
    "collapsed": false,
    "pycharm": {
     "name": "#%%\n"
    }
   }
  },
  {
   "cell_type": "markdown",
   "source": [
    "When using the cartesian goals all degrees of freedom of the link are fully constrained. One Advantage of constraint-based control is that one can only constrain neccessary constraints.\n",
    "The unconstrained DOF can then be exploited during the motion, for example in the collision avoidance or other secondary tasks.\n",
    "To use this in the python interface one can use motion goals that constrain only a singualar value, here also called constraints on feature functions.\n",
    "For a feature function constraint a feature (Point or Vector) related to the robot and one related to the world has to be defined.\n",
    "The name of the function then defines how they will be combined and 0 or 2 constraint values can be provided.\n",
    "Right now we support the following feature functions:\n",
    "\n",
    "    - Perpendicular(world_vector, robot_vector)\n",
    "    - Height(world_point, robot_point, lower_limit, upper_limit)\n",
    "    - Distance(world_point, robot_point, lower_limit, upper_limit)\n",
    "    - Pointing(world_point, robot_vector)\n",
    "    - Align(world_vector, robot_vector)\n",
    "    - Angle(world_vector, robot_vector, lower_limit, upper_limit)\n",
    "\n",
    "Robot features will be visualized as red points or arrows and world features have the color green."
   ],
   "metadata": {
    "collapsed": false,
    "pycharm": {
     "name": "#%% md\n"
    }
   }
  },
  {
   "cell_type": "code",
   "execution_count": 11,
   "outputs": [],
   "source": [
    "reset_giskard()\n",
    "# Define a world feature as a point at the origin of map\n",
    "world_feature = PointStamped()\n",
    "world_feature.header.frame_id = 'map'\n",
    "\n",
    "# Define a robot feature as a point at the origin of the right gripper tool frame\n",
    "robot_feature = PointStamped()\n",
    "robot_feature.header.frame_id = 'r_gripper_tool_frame'\n",
    "\n",
    "# use the distance feature function to constrain the distance between the features to be between 2m and 2.5m\n",
    "gs.motion_goals.add_distance(root_link='map',\n",
    "                             tip_link='r_gripper_tool_frame',\n",
    "                             reference_point=world_feature,\n",
    "                             tip_point=robot_feature,\n",
    "                             lower_limit=2,\n",
    "                             upper_limit=2.5)\n",
    "\n",
    "gs.add_default_end_motion_conditions()\n",
    "assert gs.execute().error.code == GiskardError.SUCCESS"
   ],
   "metadata": {
    "collapsed": false,
    "pycharm": {
     "name": "#%%\n"
    }
   }
  },
  {
   "cell_type": "markdown",
   "source": [
    "Now for positioning the gripper to grasp a cylindrical object one can use three different feature function constraints\n",
    "\n",
    "1. Pointing the gripper towards the object center\n",
    "2. keeping a suitable distance\n",
    "3. constrain the height to be within the dimensions of the objects"
   ],
   "metadata": {
    "collapsed": false,
    "pycharm": {
     "name": "#%% md\n"
    }
   }
  },
  {
   "cell_type": "code",
   "execution_count": 13,
   "outputs": [],
   "source": [
    "reset_giskard()\n",
    "\n",
    "# variables\n",
    "gripper_link = 'r_gripper_tool_frame'\n",
    "\n",
    "# adding the object\n",
    "cyl_pose = PoseStamped()\n",
    "cyl_pose.header.frame_id = 'map'\n",
    "cyl_pose.pose.orientation.w = 1\n",
    "cyl_pose.pose.position = Point(2, -0.2, 1.2)\n",
    "gs.world.add_cylinder('mycyl', height=0.2, radius=0.02, pose=cyl_pose, parent_link='map')\n",
    "\n",
    "# define the robot features\n",
    "robot_pointing_feature = Vector3Stamped()\n",
    "robot_pointing_feature.header.frame_id = gripper_link\n",
    "robot_pointing_feature.vector = Vector3(1, 0, 0)\n",
    "\n",
    "robot_point_feature = PointStamped()\n",
    "robot_point_feature.header.frame_id = gripper_link\n",
    "robot_point_feature.point = Point(0, 0, 0)\n",
    "\n",
    "# define the world features\n",
    "world_cylinder_center_feature = PointStamped()\n",
    "world_cylinder_center_feature.header.frame_id = 'mycyl'\n",
    "world_cylinder_center_feature.point = Point(0, 0, 0)\n",
    "\n",
    "# define the constraints\n",
    "gs.motion_goals.add_distance(root_link='map',\n",
    "                             tip_link=gripper_link,\n",
    "                             reference_point=world_cylinder_center_feature,\n",
    "                             tip_point=robot_point_feature,\n",
    "                             lower_limit=0.03,\n",
    "                             upper_limit=0.03)\n",
    "gs.motion_goals.add_height(root_link='map',\n",
    "                           tip_link=gripper_link,\n",
    "                           reference_point=world_cylinder_center_feature,\n",
    "                           tip_point=robot_point_feature,\n",
    "                           lower_limit=-0.05,\n",
    "                           upper_limit=0.05)\n",
    "gs.motion_goals.add_pointing(root_link='map',\n",
    "                             tip_link=gripper_link,\n",
    "                             goal_point=world_cylinder_center_feature,\n",
    "                             pointing_axis=robot_pointing_feature)\n",
    "# EXCERCISE SOLUTION:\n",
    "# robot_gripper_z_axis_feature = Vector3Stamped()\n",
    "# robot_gripper_z_axis_feature.header.frame_id = gripper_link\n",
    "# robot_gripper_z_axis_feature.vector = Vector3(0, 0, 1)\n",
    "#\n",
    "# world_cyl_z_axis_feature = Vector3Stamped()\n",
    "# world_cyl_z_axis_feature.header.frame_id = 'mycyl'\n",
    "# world_cyl_z_axis_feature.vector = Vector3(0, 0, 1)\n",
    "#\n",
    "# gs.motion_goals.add_align_planes(root_link='map',\n",
    "#                                 tip_link=gripper_link,\n",
    "#                                 goal_normal=world_cyl_z_axis_feature,\n",
    "#                                 tip_normal=robot_gripper_z_axis_feature)\n",
    "\n",
    "gs.add_default_end_motion_conditions()\n",
    "assert gs.execute().error.code == GiskardError.SUCCESS\n",
    "\n",
    "# EXERCISE:\n",
    "# 1. Change the position of the cylinder and the constraint values, and observe the resulting grasp poses.\n",
    "# 2. You might notice that not all poses are feasible. This is due to a missing that constraint that allows the gripper_frame to freely rotate around its x-axis. Try to constrain this using the AlignFeatureFunction"
   ],
   "metadata": {
    "collapsed": false,
    "pycharm": {
     "name": "#%%\n"
    }
   }
  },
  {
   "cell_type": "markdown",
   "source": [
    "Another advantage of having unconstrained DOF in the motion specification can be seen if we put an obstacle in front of the object we want to grasp and configure the collision avoidance to avoid this obstacle with all parts of the robot."
   ],
   "metadata": {
    "collapsed": false,
    "pycharm": {
     "name": "#%% md\n"
    }
   }
  },
  {
   "cell_type": "code",
   "execution_count": 14,
   "outputs": [],
   "source": [
    "reset_giskard()\n",
    "\n",
    "# variables\n",
    "gripper_link = 'r_gripper_tool_frame'\n",
    "\n",
    "# adding the object\n",
    "cyl_pose = PoseStamped()\n",
    "cyl_pose.header.frame_id = 'map'\n",
    "cyl_pose.pose.orientation.w = 1\n",
    "cyl_pose.pose.position = Point(2, -0.2, 1.2)\n",
    "gs.world.add_cylinder('mycyl', height=0.2, radius=0.02, pose=cyl_pose, parent_link='map')\n",
    "\n",
    "obstacle_pose = PoseStamped()\n",
    "obstacle_pose.header.frame_id = 'mycyl'\n",
    "obstacle_pose.pose.orientation.w = 1\n",
    "obstacle_pose.pose.position = Point(-0.1, 0.1, 0)\n",
    "gs.world.add_box('obstacle', size=(0.02, 0.06, 0.05), pose=obstacle_pose, parent_link='mycyl')\n",
    "\n",
    "# define the robot features\n",
    "robot_pointing_feature = Vector3Stamped()\n",
    "robot_pointing_feature.header.frame_id = gripper_link\n",
    "robot_pointing_feature.vector = Vector3(1, 0, 0)\n",
    "\n",
    "robot_point_feature = PointStamped()\n",
    "robot_point_feature.header.frame_id = gripper_link\n",
    "robot_point_feature.point = Point(0, 0, 0)\n",
    "\n",
    "robot_gripper_z_axis_feature = Vector3Stamped()\n",
    "robot_gripper_z_axis_feature.header.frame_id = gripper_link\n",
    "robot_gripper_z_axis_feature.vector = Vector3(0, 0, 1)\n",
    "\n",
    "# define the world features\n",
    "world_cylinder_center_feature = PointStamped()\n",
    "world_cylinder_center_feature.header.frame_id = 'mycyl'\n",
    "world_cylinder_center_feature.point = Point(0, 0, 0)\n",
    "\n",
    "world_cyl_z_axis_feature = Vector3Stamped()\n",
    "world_cyl_z_axis_feature.header.frame_id = 'mycyl'\n",
    "world_cyl_z_axis_feature.vector = Vector3(0, 0, 1)\n",
    "\n",
    "# define the constraints\n",
    "gs.motion_goals.add_distance(root_link='map',\n",
    "                             tip_link=gripper_link,\n",
    "                             reference_point=world_cylinder_center_feature,\n",
    "                             tip_point=robot_point_feature,\n",
    "                             lower_limit=0.03,\n",
    "                             upper_limit=0.03)\n",
    "gs.motion_goals.add_height(root_link='map',\n",
    "                           tip_link=gripper_link,\n",
    "                           reference_point=world_cylinder_center_feature,\n",
    "                           tip_point=robot_point_feature,\n",
    "                           lower_limit=-0.05,\n",
    "                           upper_limit=0.05)\n",
    "gs.motion_goals.add_pointing(root_link='map',\n",
    "                             tip_link=gripper_link,\n",
    "                             goal_point=world_cylinder_center_feature,\n",
    "                             pointing_axis=robot_pointing_feature)\n",
    "gs.motion_goals.avoid_collision(min_distance=0.1, group1='obstacle')\n",
    "gs.motion_goals.add_align_planes(root_link='map',\n",
    "                                 tip_link=gripper_link,\n",
    "                                 goal_normal=world_cyl_z_axis_feature,\n",
    "                                 tip_normal=robot_gripper_z_axis_feature)\n",
    "gs.add_default_end_motion_conditions()\n",
    "assert gs.execute().error.code == GiskardError.SUCCESS\n",
    "\n",
    "# EXERCISE:\n",
    "# 1. Change Pose and size of the obstacle and see of the robot behaves."
   ],
   "metadata": {
    "collapsed": false,
    "pycharm": {
     "name": "#%%\n"
    }
   }
  },
  {
   "cell_type": "markdown",
   "source": [
    "Now, for each constraint a related monitor can be added to observe their progression and collect feedback in the case of failure where one or many constraints cannot be satisfied."
   ],
   "metadata": {
    "collapsed": false,
    "pycharm": {
     "name": "#%% md\n"
    }
   }
  },
  {
   "cell_type": "code",
   "execution_count": 27,
   "outputs": [],
   "source": [
    "reset_giskard()\n",
    "\n",
    "# variables\n",
    "gripper_link = 'r_gripper_tool_frame'\n",
    "\n",
    "# adding the object\n",
    "cyl_pose = PoseStamped()\n",
    "cyl_pose.header.frame_id = 'map'\n",
    "cyl_pose.pose.orientation.w = 1\n",
    "cyl_pose.pose.position = Point(2, -0.2, 1.2)\n",
    "gs.world.add_cylinder('mycyl', height=0.2, radius=0.02, pose=cyl_pose, parent_link='map')\n",
    "\n",
    "obstacle_pose = PoseStamped()\n",
    "obstacle_pose.header.frame_id = 'mycyl'\n",
    "obstacle_pose.pose.orientation.w = 1\n",
    "obstacle_pose.pose.position = Point(-0.1, 0.1, 0)\n",
    "gs.world.add_box('obstacle', size=(0.02, 0.06, 0.05), pose=obstacle_pose, parent_link='mycyl')\n",
    "\n",
    "# define the robot features\n",
    "robot_pointing_feature = Vector3Stamped()\n",
    "robot_pointing_feature.header.frame_id = gripper_link\n",
    "robot_pointing_feature.vector = Vector3(1, 0, 0)\n",
    "\n",
    "robot_point_feature = PointStamped()\n",
    "robot_point_feature.header.frame_id = gripper_link\n",
    "robot_point_feature.point = Point(0, 0, 0)\n",
    "\n",
    "robot_gripper_z_axis_feature = Vector3Stamped()\n",
    "robot_gripper_z_axis_feature.header.frame_id = gripper_link\n",
    "robot_gripper_z_axis_feature.vector = Vector3(0, 0, 1)\n",
    "\n",
    "# define the world features\n",
    "world_cylinder_center_feature = PointStamped()\n",
    "world_cylinder_center_feature.header.frame_id = 'mycyl'\n",
    "world_cylinder_center_feature.point = Point(0, 0, 0)\n",
    "\n",
    "world_cyl_z_axis_feature = Vector3Stamped()\n",
    "world_cyl_z_axis_feature.header.frame_id = 'mycyl'\n",
    "world_cyl_z_axis_feature.vector = Vector3(0, 0, 1)\n",
    "\n",
    "# define the constraints\n",
    "gs.motion_goals.add_distance(root_link='map',\n",
    "                             tip_link=gripper_link,\n",
    "                             reference_point=world_cylinder_center_feature,\n",
    "                             tip_point=robot_point_feature,\n",
    "                             lower_limit=0.0,\n",
    "                             upper_limit=0.0)\n",
    "mon_dist = gs.monitors.add_distance(root_link='map',\n",
    "                                    tip_link=gripper_link,\n",
    "                                    reference_point=world_cylinder_center_feature,\n",
    "                                    tip_point=robot_point_feature,\n",
    "                                    lower_limit=-0.001,\n",
    "                                    upper_limit=0.001)\n",
    "\n",
    "gs.motion_goals.add_height(root_link='map',\n",
    "                           tip_link=gripper_link,\n",
    "                           reference_point=world_cylinder_center_feature,\n",
    "                           tip_point=robot_point_feature,\n",
    "                           lower_limit=-0.05,\n",
    "                           upper_limit=0.05)\n",
    "mon_height = gs.monitors.add_height(root_link='map',\n",
    "                                    tip_link=gripper_link,\n",
    "                                    reference_point=world_cylinder_center_feature,\n",
    "                                    tip_point=robot_point_feature,\n",
    "                                    lower_limit=-0.05,\n",
    "                                    upper_limit=0.05)\n",
    "\n",
    "gs.motion_goals.add_pointing_at_line(root_link='map',\n",
    "                             tip_link=gripper_link,\n",
    "                             goal_line=world_cyl_z_axis_feature,\n",
    "                             pointing_axis=robot_pointing_feature)\n",
    "mon_pointing = gs.monitors.add_pointing_at(root_link='map',\n",
    "                                           tip_link=gripper_link,\n",
    "                                           goal_point=world_cylinder_center_feature,\n",
    "                                           pointing_axis=robot_pointing_feature)\n",
    "\n",
    "gs.motion_goals.add_align_planes(root_link='map',\n",
    "                                 tip_link=gripper_link,\n",
    "                                 goal_normal=world_cyl_z_axis_feature,\n",
    "                                 tip_normal=robot_gripper_z_axis_feature)\n",
    "mon_align = gs.monitors.add_vectors_aligned(root_link='map',\n",
    "                                            tip_link=gripper_link,\n",
    "                                            goal_normal=world_cyl_z_axis_feature,\n",
    "                                            tip_normal=robot_gripper_z_axis_feature)\n",
    "\n",
    "gs.motion_goals.allow_all_collisions()\n",
    "# gs.motion_goals.avoid_collision(min_distance=0.08, group1='obstacle')\n",
    "gs.monitors.add_end_motion(f'{mon_dist} and {mon_height} and {mon_align}')\n",
    "gs.monitors.add_cancel_motion(gs.monitors.add_local_minimum_reached(), error_message='local minimum reached while monitors are not satisfied')\n",
    "assert gs.execute().error.code == GiskardError.SUCCESS"
   ],
   "metadata": {
    "collapsed": false,
    "pycharm": {
     "name": "#%%\n"
    }
   }
  },
  {
   "cell_type": "markdown",
   "source": [
    "Combination of constraints and cost function augmentations to\n",
    "- place both grippers at specific poses (2 6D Pose Constraints)\n",
    "- keep the line of sight on the left gripper (Pointing Constraint)\n",
    "- prefer using base movements if the grippers are further away from their goal poses and avoid base movements if they are close to their goals (Quadratic Weight Scaling)\n",
    "- maximize the manipulability in each arm (Linear weight term in the cost function)"
   ],
   "metadata": {
    "collapsed": false,
    "pycharm": {
     "name": "#%% md\n"
    }
   }
  },
  {
   "cell_type": "code",
   "execution_count": 16,
   "outputs": [
    {
     "name": "stderr",
     "output_type": "stream",
     "text": [
      "\n",
      "KeyboardInterrupt\n",
      "\n"
     ]
    }
   ],
   "source": [
    "reset_giskard()\n",
    "\n",
    "js = {\n",
    "    # 'torso_lift_joint': 0.2999225173357618,\n",
    "    'head_pan_joint': 0.041880780651479044,\n",
    "    'head_tilt_joint': -0.37,\n",
    "    'r_upper_arm_roll_joint': -0.9487714747527726,\n",
    "    'r_shoulder_pan_joint': -1.0047307505973626,\n",
    "    'r_shoulder_lift_joint': 0.48736790658811985,\n",
    "    'r_forearm_roll_joint': -14.895833882874182,\n",
    "    'r_elbow_flex_joint': -1.392377908925028,\n",
    "    'r_wrist_flex_joint': -0.4548695149411013,\n",
    "    'r_wrist_roll_joint': 0.11426798984097819,\n",
    "    'l_upper_arm_roll_joint': 1.7383062350263658,\n",
    "    'l_shoulder_pan_joint': 1.8799810286792007,\n",
    "    'l_shoulder_lift_joint': 0.011627231224188975,\n",
    "    'l_forearm_roll_joint': 312.67276414458695,\n",
    "    'l_elbow_flex_joint': -2.0300928925694675,\n",
    "    'l_wrist_flex_joint': -0.10014623223021513,\n",
    "    'l_wrist_roll_joint': -6.062015047706399,\n",
    "}\n",
    "gs.motion_goals.add_joint_position(js)\n",
    "gs.motion_goals.allow_all_collisions()\n",
    "gs.add_default_end_motion_conditions()\n",
    "gs.execute()\n",
    "\n",
    "goal_pose = PoseStamped()\n",
    "goal_pose.header.frame_id = 'map'\n",
    "goal_pose.pose.orientation = Quaternion(*quaternion_from_matrix([[1, 0, 0, 0],\n",
    "                                                                 [0, 1, 0, 0],\n",
    "                                                                 [0, 0, 1, 0],\n",
    "                                                                 [0, 0, 0, 1]]))\n",
    "goal_pose.pose.position.x = 2.01\n",
    "goal_pose.pose.position.y = -0.2\n",
    "goal_pose.pose.position.z = 0.7\n",
    "\n",
    "goal_pose2 = deepcopy(goal_pose)\n",
    "goal_pose2.pose.position.y = -0.6\n",
    "goal_pose2.pose.position.z = 0.8\n",
    "goal_pose2.pose.orientation = Quaternion(*quaternion_from_matrix([[0, 0, 1, 0],\n",
    "                                                                  [0, 1, 0, 0],\n",
    "                                                                  [-1, 0, 0, 0],\n",
    "                                                                  [0, 0, 0, 1]]))\n",
    "\n",
    "gs.motion_goals.add_cartesian_pose(goal_pose, 'l_gripper_tool_frame', 'map')\n",
    "gs.motion_goals.add_cartesian_pose(goal_pose2, 'r_gripper_tool_frame', 'map', name='cart2')\n",
    "\n",
    "goal_point = PointStamped()\n",
    "goal_point.header.frame_id = goal_pose.header.frame_id\n",
    "goal_point.point = goal_pose.pose.position\n",
    "pointing_axis = Vector3Stamped()\n",
    "pointing_axis.header.frame_id = 'wide_stereo_optical_frame'\n",
    "pointing_axis.vector.z = 1\n",
    "gs.motion_goals.add_pointing(goal_point, 'wide_stereo_optical_frame', pointing_axis, 'map')\n",
    "\n",
    "x_base = Vector3Stamped()\n",
    "x_base.header.frame_id = 'base_link'\n",
    "x_base.vector.x = 1\n",
    "x_goal = Vector3Stamped()\n",
    "x_goal.header.frame_id = 'map'\n",
    "x_goal.vector.x = 1\n",
    "gs.motion_goals.add_align_planes(tip_link='base_link',\n",
    "                                 root_link='map',\n",
    "                                 tip_normal=x_base,\n",
    "                                 goal_normal=x_goal)\n",
    "\n",
    "tip_goal = PointStamped()\n",
    "tip_goal.header.frame_id = 'map'\n",
    "tip_goal.point = goal_pose.pose.position\n",
    "gs.motion_goals.add_motion_goal(motion_goal_class=BaseArmWeightScaling.__name__,\n",
    "                                root_link='map',\n",
    "                                tip_link='l_gripper_tool_frame',\n",
    "                                tip_goal=tip_goal,\n",
    "                                gain=100000,\n",
    "                                arm_joints=[\n",
    "                                    'torso_lift_joint',\n",
    "                                    # 'head_pan_joint',\n",
    "                                    # 'head_tilt_joint',\n",
    "                                    'r_upper_arm_roll_joint',\n",
    "                                    'r_shoulder_pan_joint',\n",
    "                                    'r_shoulder_lift_joint',\n",
    "                                    'r_forearm_roll_joint',\n",
    "                                    'r_elbow_flex_joint',\n",
    "                                    'r_wrist_flex_joint',\n",
    "                                    'r_wrist_roll_joint',\n",
    "                                    'l_upper_arm_roll_joint',\n",
    "                                    'l_shoulder_pan_joint',\n",
    "                                    'l_shoulder_lift_joint',\n",
    "                                    'l_forearm_roll_joint',\n",
    "                                    'l_elbow_flex_joint',\n",
    "                                    'l_wrist_flex_joint',\n",
    "                                    'l_wrist_roll_joint'],\n",
    "                                base_joints=['brumbrum'])\n",
    "gs.motion_goals.add_motion_goal(motion_goal_class=MaxManipulabilityLinWeight.__name__,\n",
    "                                root_link='torso_lift_link',\n",
    "                                tip_link='r_gripper_tool_frame')\n",
    "gs.motion_goals.add_motion_goal(motion_goal_class=MaxManipulabilityLinWeight.__name__,\n",
    "                                root_link='torso_lift_link',\n",
    "                                tip_link='l_gripper_tool_frame',\n",
    "                                name='MaxMal2')\n",
    "gs.add_default_end_motion_conditions()\n",
    "gs.motion_goals.allow_all_collisions()\n",
    "assert gs.execute().error.code == GiskardError.SUCCESS\n",
    "\n",
    "# EXERCISE:\n",
    "# 1.Comment the BaseArmWeightScaling and MaxManipulabilityLinWeight Goals to observe the resulting motions when the cost function is not augmented."
   ],
   "metadata": {
    "collapsed": false,
    "pycharm": {
     "name": "#%%\n"
    }
   }
  }
 ],
 "metadata": {
  "kernelspec": {
   "display_name": "Python 3",
   "language": "python",
   "name": "python3"
  },
  "language_info": {
   "codemirror_mode": {
    "name": "ipython",
    "version": 2
   },
   "file_extension": ".py",
   "mimetype": "text/x-python",
   "name": "python",
   "nbconvert_exporter": "python",
   "pygments_lexer": "ipython2",
   "version": "2.7.6"
  }
 },
 "nbformat": 4,
 "nbformat_minor": 0
}